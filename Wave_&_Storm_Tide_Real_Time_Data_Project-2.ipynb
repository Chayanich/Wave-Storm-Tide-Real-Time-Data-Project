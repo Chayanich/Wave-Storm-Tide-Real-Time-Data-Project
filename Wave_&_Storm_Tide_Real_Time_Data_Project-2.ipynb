{
  "cells": [
    {
      "cell_type": "markdown",
      "id": "6ef62cbd-2ea0-442e-973e-e50ca1e97fa2",
      "metadata": {
        "cell_name": "header_cell",
        "id": "6ef62cbd-2ea0-442e-973e-e50ca1e97fa2"
      },
      "source": [
        "<div style=\"background:#FFFFEE; color:#440404; padding:8px; border-radius: 4px; text-align: center; font-weight: 500;\">IFN619 - Data Analytics for Strategic Decision Makers</div>"
      ]
    },
    {
      "cell_type": "code",
      "execution_count": null,
      "id": "763f6f63",
      "metadata": {
        "id": "763f6f63"
      },
      "outputs": [],
      "source": [
        "# Complete the following cell with your details and run to produce your personalised header for this assignment\n",
        "\n",
        "from IPython.display import HTML\n",
        "\n",
        "first_name = 'Chayanich'\n",
        "last_name = 'Apaipakdee'\n",
        "student_number = 'N12087289'\n",
        "\n",
        "personal_header = f\"<h1>{first_name} {last_name}</h1>\"\n",
        "HTML(personal_header)"
      ]
    },
    {
      "cell_type": "markdown",
      "id": "81caa994",
      "metadata": {
        "id": "81caa994"
      },
      "source": [
        "---\n",
        "\n",
        "## Data for both Part A and Part B\n",
        "\n",
        "This assignment uses data from the Queensland Government [Open Data Portal](https://www.data.qld.gov.au). Both parts will use data on [Queensland Wave Monitoring](https://www.qld.gov.au/environment/coasts-waterways/beach/monitoring). Part B will also use data on [Storm tide monitoring](https://www.qld.gov.au/environment/coasts-waterways/beach/storm) You should familiarise yourself with the information on this site to understand the context for the data.\n",
        "\n",
        "For this assignment, you will use the [Coastal Data System - Near real time wave data](https://www.data.qld.gov.au/dataset/coastal-data-system-near-real-time-wave-data) and for Part B you will add [Coastal Data System – Near real time storm tide data](https://www.data.qld.gov.au/dataset/coastal-data-system-near-real-time-storm-tide-data). Note that this data will change over the time period of the assignment."
      ]
    },
    {
      "cell_type": "markdown",
      "id": "24fbcf4f",
      "metadata": {
        "id": "24fbcf4f"
      },
      "source": [
        "---\n",
        "## Part A\n",
        "\n",
        "#### QUESTION:\n",
        "***What can we learn from the wave height data for South East Queensland, and how might this data be used strategically during a major weather event?***"
      ]
    },
    {
      "cell_type": "markdown",
      "id": "10629964",
      "metadata": {
        "id": "10629964"
      },
      "source": [
        "### [Q1] Read the data\n",
        "\n",
        "- Open the CSV version of the file. Open directly from the URL into a pandas dataframe.\n",
        "- Make a note of your first access of the data\n",
        "- Identify an appropriate index, and make a note of the columns."
      ]
    },
    {
      "cell_type": "code",
      "execution_count": null,
      "id": "d50aaa03",
      "metadata": {
        "id": "d50aaa03"
      },
      "outputs": [],
      "source": [
        "# Your answer here\n",
        "\n",
        "# 1.1 Open the CSV version of the file. Open directly from the URL into a pandas dataframe.\n",
        "import pandas as pd\n",
        "\n",
        "# Open a CSV file from URL into a new dataframe\n",
        "NRT_wave_data = \"https://www.data.qld.gov.au/datastore/dump/2bbef99e-9974-49b9-a316-57402b00609c?bom=True\"\n",
        "pd.read_csv(NRT_wave_data)"
      ]
    },
    {
      "cell_type": "markdown",
      "id": "e3bd0358-7fa2-44b5-bcb2-b0125bdb6bca",
      "metadata": {
        "id": "e3bd0358-7fa2-44b5-bcb2-b0125bdb6bca"
      },
      "source": [
        "#### [Q1] Findings from first acccess\n",
        "\n",
        "##### 1.2 Make a note of your first access of the data\n",
        "- If the [URL](https://apps.des.qld.gov.au/data-sets/waves/wave-7dayopdata.csv?timestamp=2025-03-18T09:33:01+10:00) appears on [the Wave Data](https://www.data.qld.gov.au/dataset/coastal-data-system-near-real-time-wave-data/resource/2bbef99e-9974-49b9-a316-57402b00609c) page were used the format of the csv file has one extra row indicates the date and time the csv file was extracted (timestamp 18 Mar 2025 9:33am)\n",
        "- The [URL](https://www.data.qld.gov.au/datastore/dump/2bbef99e-9974-49b9-a316-57402b00609c?bom=True) used in my code can be found by clicking an arrow pointing down next to the \"go to resource\" on the top right cornor.\n",
        "\n",
        "##### 1.3 Identify an appropriate index, and make a note of the columns.\n",
        "- the appropriate index column for this data frame is ***'_id'***.\n",
        ">**The data consist of 15 columns as follows:**\n",
        ">- **_id**: An index column for wave data\n",
        ">- **Site**:  Wave monitoring site name\n",
        ">- **SiteNumber**: Unique number represents each site name\n",
        ">- **Seconds**: Unix timestamp represents the number of seconds since January 1, 1970 (UTC)\n",
        ">- **DataTime**: Date and time of record.\n",
        ">- **Latitude**: Monitoring site latitude.\n",
        ">- **Longitude**: Monitoring site longitude.\n",
        ">- **Hsig**: Average height of the tallest one-third of waves (significant wave) during one record period.\n",
        ">- **Hmax**: The maximum wave height in the record.\n",
        ">- **Tp**: The peak energy wave period.\n",
        ">- **Tz**: The zero upcrossing wave period.\n",
        ">- **SST**: Approximation of sea surface temperature.\n",
        ">- **Direction**: Direction (related to true north) from which the peak period waves are coming.\n",
        ">- **CurrentSpeed**: Current speed of the wave\n",
        ">- **CurrentDirection**: Current Direction of the wave\n",
        "- In the analysis of wave height, I focus on column ***'Site'*** (identify the location of the monitoring site) and ***'Hsig'*** (average height of the significant wave)."
      ]
    },
    {
      "cell_type": "markdown",
      "id": "f247e745",
      "metadata": {
        "id": "f247e745"
      },
      "source": [
        "### [Q2] Save the data\n",
        "- Transform your grouped data into a dataframe\n",
        "- Save the dataframe as a CSV file with the date that reflects the URL access in Q1\n"
      ]
    },
    {
      "cell_type": "code",
      "execution_count": null,
      "id": "b0b221e7-875b-4f94-b312-425c2882c4ce",
      "metadata": {
        "id": "b0b221e7-875b-4f94-b312-425c2882c4ce"
      },
      "outputs": [],
      "source": [
        "# Your answer here\n",
        "\n",
        "# 2.1 Transform your grouped data into a dataframe\n",
        "NRT_wave_df = pd.read_csv(NRT_wave_data,index_col = '_id')\n",
        "NRT_wave_df"
      ]
    },
    {
      "cell_type": "code",
      "execution_count": null,
      "id": "2fac393f",
      "metadata": {
        "id": "2fac393f"
      },
      "outputs": [],
      "source": [
        "# 2.2 Save the dataframe as a CSV file with the date that reflects the URL access in Q1\n",
        "# Create new csv file in data folder\n",
        "file_name = \"NRT_wave.csv\"\n",
        "path = \"data\"\n",
        "NRT_wave_df.to_csv(f\"{path}/{file_name}\")"
      ]
    },
    {
      "cell_type": "markdown",
      "id": "d603f5c9",
      "metadata": {
        "id": "d603f5c9"
      },
      "source": [
        "### Read the data from a file\n",
        "- To read the same data back in (rather than up-to-date data), write code here to read in your file from Q2"
      ]
    },
    {
      "cell_type": "code",
      "execution_count": null,
      "id": "402252c8",
      "metadata": {
        "id": "402252c8"
      },
      "outputs": [],
      "source": [
        "# Your answer here\n",
        "# Read csv file\n",
        "NRT_wave_file_df = pd.read_csv(f\"{path}/{file_name}\", index_col = \"_id\")\n",
        "NRT_wave_file_df"
      ]
    },
    {
      "cell_type": "markdown",
      "id": "32ff170c",
      "metadata": {
        "id": "32ff170c"
      },
      "source": [
        "### [Q3] Analyse the data\n",
        "- Filter the data to include only sites for the South East coast (from Gold Coast to Sunshine Coast)\n",
        "- Group the filtered data by site\n",
        "- Obtain an appropriate aggregate for the groups (e.g. Sum, Mean, etc)\n",
        "- Save the grouped data as a new dataframe"
      ]
    },
    {
      "cell_type": "code",
      "execution_count": null,
      "id": "0fd535fe",
      "metadata": {
        "id": "0fd535fe"
      },
      "outputs": [],
      "source": [
        "# Your answer here\n",
        "\n",
        "# 3.1 Filter the data to include only sites for the South East coast (from Gold Coast to Sunshine Coast)\n",
        "\n",
        "# Get all the site name from Gold Coast to Sunshine Coast\n",
        "# Refering to https://www.qld.gov.au/environment/coasts-waterways/beach/monitoring/waves-sites\n",
        "SE_coast = ['Mooloolaba','North Moreton Bay','Caloundra','Tweed Offshore','Brisbane Mk4','Gold Coast Mk4','Palm Beach Mk4','Bilinga','Tweed Heads Mk4']\n",
        "\n",
        "# Filter data to include only site from SE coast\n",
        "NRT_wave_SEQ_df = NRT_wave_file_df[NRT_wave_file_df['Site'].isin(SE_coast)]\n",
        "NRT_wave_SEQ_df\n",
        "\n",
        "#Using isin instead of typing 'Site' == #site name#"
      ]
    },
    {
      "cell_type": "code",
      "execution_count": null,
      "id": "3efbbfaa-e0e3-42c0-8f49-f2c6a5209f31",
      "metadata": {
        "id": "3efbbfaa-e0e3-42c0-8f49-f2c6a5209f31"
      },
      "outputs": [],
      "source": [
        "# 3.2 Group the filtered data by site\n",
        "NRT_wave_SEQ_df.groupby(['Site']).size()"
      ]
    },
    {
      "cell_type": "code",
      "execution_count": null,
      "id": "fd7215d4-5391-460f-86e1-5d4534116e34",
      "metadata": {
        "id": "fd7215d4-5391-460f-86e1-5d4534116e34"
      },
      "outputs": [],
      "source": [
        "# 3.3 Obtain an appropriate aggregate for the groups (e.g. Sum, Mean, etc)\n",
        "# 3.4 Save the grouped data as a new dataframe\n",
        "\n",
        "# Will focus on variables for wave heights Hsig (average wave height)\n",
        "wave_hight_col = ['Hsig']\n",
        "\n",
        "NRT_wave_SEQ_mean_df = NRT_wave_SEQ_df.groupby(['Site'])[wave_hight_col].mean()\n",
        "NRT_wave_SEQ_mean_df"
      ]
    },
    {
      "cell_type": "code",
      "execution_count": null,
      "id": "27785fb7-c1cd-4ce2-9945-38d6e0267361",
      "metadata": {
        "id": "27785fb7-c1cd-4ce2-9945-38d6e0267361"
      },
      "outputs": [],
      "source": [
        "NRT_wave_SEQ_mean_df_sorted = NRT_wave_SEQ_mean_df.sort_values(by='Hsig')\n",
        "NRT_wave_SEQ_mean_df_sorted"
      ]
    },
    {
      "cell_type": "markdown",
      "id": "24e6cee2",
      "metadata": {
        "id": "24e6cee2"
      },
      "source": [
        "### [Q4] Visualise the data\n",
        "\n",
        "- Visualise the grouped data with an appropriate chart\n",
        "- Ensure X and Y axes are labelled appropriately\n",
        "- Add an appropriate title for the chart"
      ]
    },
    {
      "cell_type": "code",
      "execution_count": null,
      "id": "92a5a7fa",
      "metadata": {
        "id": "92a5a7fa"
      },
      "outputs": [],
      "source": [
        "# Your answer here\n",
        "import plotly.express as px\n",
        "\n",
        "fig = px.bar(NRT_wave_SEQ_mean_df_sorted,\n",
        "              labels={'Site': 'Site Location', 'value': 'Average Wave Height (in Meters)'},\n",
        "              title = \"Average wave height for location from south-east Queensland\",\n",
        "              width=800, height=600)\n",
        "fig.show()"
      ]
    },
    {
      "cell_type": "markdown",
      "id": "6b76c25f",
      "metadata": {
        "id": "6b76c25f"
      },
      "source": [
        "### [Q5] Extract Insights\n",
        "- Referring back to the question, what can we learn from this data (analysed and visualised above)?\n",
        "- Thinking about the kind of data, how might it be used strategically in a major weather event?\n",
        "- Who might benefit most from strategic use of this data."
      ]
    },
    {
      "cell_type": "markdown",
      "id": "99ac0bd6",
      "metadata": {
        "id": "99ac0bd6"
      },
      "source": [
        "*Your answer here:*\n",
        "##### Referring back to the question, what can we learn from this data (analysed and visualised above)?\n",
        "1. Average wave height for each location in southeast Queensland.\n",
        "2. Location prone to coastline erosion due to more powerful waves.\n",
        "##### Thinking about the kind of data, how might it be used strategically in a major weather event?\n",
        "1. Warning & evacuation priority for each location.\n",
        "2. Flood prevention facility designs. (how high should the sandbag wall be for each location)\n",
        "##### Who might benefit most from strategic use of this data?\n",
        "1. Bureau of Meteorology for weather and flood warnings since they are the primary responsible agency. They can integrate this data with other available information to improve their predictions.\n",
        "2. Local Government for infrastructure planning to prevent erosions along the coast with strong waves.\n",
        "3. Surf club/school for surfer camp location plan for surfers with different skill levels so they can"
      ]
    },
    {
      "cell_type": "markdown",
      "id": "71115c60",
      "metadata": {
        "id": "71115c60"
      },
      "source": [
        "---\n",
        "## Part B - creating a narrative to answer significant questions\n",
        "\n",
        "**SCENARIO:**  You are responsible for providing helpful analysis to a variety of government departments (Including Police and Emergency Services). The responsible government ministers have asked your team to make data analysis plans to assist during a major weather emergency in South East Queensland. You have been tasked (within your team) to focus on waves and storm tide monitoring. Your team has also suggested that you consider flood maps for relevant areas (See: [Local government flood maps and data](https://www.qld.gov.au/emergency/dealing-disasters/disaster-types/flood/for-councils-and-flood-practitioners/flood-data-and-resources/local-government-flood-data-and-resources))\n",
        "\n",
        "**ESSENTIAL REQUIREMENTS:** Your task as a data analyst is to:\n",
        "\n",
        "- Ensure that you use the techniques and libraries/packages that have been used in class\n",
        "- Identify high quality questions that when answered may be helpful in addressing the scenario above (You may choose to focus on just 1 site that you use as a proof of concept for multiple sites)\n",
        "- Clean and filter the data as appropriate\n",
        "- Analyse the data in a way that answers your questions and ultimately addresses the concern in the scenario\n",
        "- Visualise your results in a meaningful way that is helpful in making visible key findings\n",
        "- Provide a detailed summary of the insights found and how they address the original questions and scenario\n",
        "\n",
        "**AUTHENTICITY AND INTEGRITY**: You will be marked on (a) *HOW* you undertake the task todgether; with (b) detail of *WHY* you made various decisions involved in the tasks; and (c) acknowledgement of **WHERE** you  used material that is not directly yours. Therefore, you must document your thinking and approach throughout the notebook using the Markdown cells, and give credit to other resources as appropriate. You are encouraged to use the `Exemplars` PDF to help write your code. You may use online resources including `GenAI tools` and `stackoverflow` to help you write your code, however you must acknowledge that you are using these resources in the markdown cells explaining your analysis. Note that you do not need to use formal referencing for this.\n",
        "\n",
        "---\n"
      ]
    },
    {
      "cell_type": "markdown",
      "id": "1211d3c4-abec-42f6-a1bf-a0a45bdd5efe",
      "metadata": {
        "id": "1211d3c4-abec-42f6-a1bf-a0a45bdd5efe"
      },
      "source": [
        "### **1. QUESTION:**\n",
        "\n",
        "I considered the dynamic nature of the data, which is always changing over time. Capturing a pattern from a single moment in time might not give a complete picture of the situation because tide levels and wave heights vary frequently. Rather, I decided that ongoing monitoring might provide a more useful insight. By tracking these patterns over time, we can build a monitoring tool that provides ongoing insights, making it valuable for long-term flood risk assessments and infrastructure planning.\n",
        "\n",
        "**Concern**: Waves and storm tides pose significant risks to coastal communities and natural environments, contributing to flooding and erosion.\n",
        "> **Question:** How do near real-time wave height and tide level data vary at major coastal locations in South East Queensland, and what patterns can be observed through continuous monitoring and how can those information help with flood warnings and infrastructure planning."
      ]
    },
    {
      "cell_type": "markdown",
      "id": "bb8486b3-2af7-43d2-8c22-d382155a0217",
      "metadata": {
        "id": "bb8486b3-2af7-43d2-8c22-d382155a0217"
      },
      "source": [
        "### **2. DATA:**\n",
        "To answer the question, I will use both near real-time `Wave Data` and `Storm Tide Data`. In this part, I perform data cleaning, including formatting, before identifying relevant data fields that would help answer the question."
      ]
    },
    {
      "cell_type": "markdown",
      "id": "59438fe5-346f-493a-b779-849cf427caa5",
      "metadata": {
        "id": "59438fe5-346f-493a-b779-849cf427caa5"
      },
      "source": [
        "#### 2.1 Wave Data\n",
        "For `Wave Data`, continuing from part A, I clean the data further by changing the format of a `DateTime` field. In the beginning, python detects this as an object type since it is in a long string with *\"YYYY-MM-DDTHH:MM:SS\"* format.\n",
        "\n",
        "I convert the `DateTime` fields from object type to `datetime64` before creating a new column with the date-only format as I want to monitor the conditions by daily average."
      ]
    },
    {
      "cell_type": "code",
      "execution_count": null,
      "id": "349a9fdc-9105-4456-af82-d524d3df006e",
      "metadata": {
        "id": "349a9fdc-9105-4456-af82-d524d3df006e"
      },
      "outputs": [],
      "source": [
        "#Inspect data field in dataframe\n",
        "NRT_wave_SEQ_df"
      ]
    },
    {
      "cell_type": "code",
      "execution_count": null,
      "id": "b30c3db9-5d13-45fd-bb18-7f40d622503b",
      "metadata": {
        "id": "b30c3db9-5d13-45fd-bb18-7f40d622503b"
      },
      "outputs": [],
      "source": [
        "#Inspect data type for each field\n",
        "NRT_wave_SEQ_df.dtypes"
      ]
    },
    {
      "cell_type": "code",
      "execution_count": null,
      "id": "b3929344-257d-40af-9bd2-3d577bcf70e4",
      "metadata": {
        "id": "b3929344-257d-40af-9bd2-3d577bcf70e4"
      },
      "outputs": [],
      "source": [
        "#Convert DateTime into correct type (datatime64)\n",
        "NRT_wave_SEQ_df['DateTime'] = pd.to_datetime(NRT_wave_SEQ_df['DateTime'], errors='coerce', format='%Y-%m-%dT%H:%M:%S')\n",
        "NRT_wave_SEQ_df.dtypes"
      ]
    },
    {
      "cell_type": "markdown",
      "id": "75b7f668-c026-47f6-9374-49e1f4fe9868",
      "metadata": {
        "id": "75b7f668-c026-47f6-9374-49e1f4fe9868"
      },
      "source": [
        "I created a new datafield called `Date` which derive from the original `DateTime` field. I use the GenerativeAI tool (ChatGPT) to help me with the code.\n",
        "\n",
        "**Prompt Used:**\n",
        "> \"Suggest me a code that can extract only date-month-year information from datafield with date-month-year and time.\""
      ]
    },
    {
      "cell_type": "code",
      "execution_count": null,
      "id": "8f8de124-9010-4d09-b02a-05860c5f63a8",
      "metadata": {
        "id": "8f8de124-9010-4d09-b02a-05860c5f63a8"
      },
      "outputs": [],
      "source": [
        "#Create new column for date (no time) to use as time stamp\n",
        "NRT_wave_SEQ_df['Date'] = NRT_wave_SEQ_df['DateTime'].dt.date"
      ]
    },
    {
      "cell_type": "markdown",
      "id": "2af003d1-d11f-4554-9480-514c3d588a93",
      "metadata": {
        "id": "2af003d1-d11f-4554-9480-514c3d588a93"
      },
      "source": [
        "After the data is cleaned, I consider each data field to get more understanding by reading a [Data Glossary](https://www.qld.gov.au/environment/coasts-waterways/beach/monitoring/waves-glossary). I also use ChatGPT to help explain how each piece of information integrates for insights (`Hsig`, `Hmax`, `Tp`, `Tz`, `SST`) since most of the data fields are in specific terms.\n",
        "\n",
        "**Prompt Used:**\n",
        "> Please help explain to me what Hsig, Hmax, Tp, Tz, SST mean and how are they used in coastal monitoring.\n",
        "\n",
        "I find `Hsig` and `Tp` particularly interesting, so I followed up with ChatGPT to understand how they combine to offer valuable insights. According to ChatGPT `Hsig` and `TP` together can identify the wave strength.\n",
        "\n",
        "**Summary of Response**\n",
        "> Hsig (significant wave height) and Tp (peak period) are two key wave parameters that, when analysed together, provide valuable insights into coastal conditions. Hsig reflects the average height of the largest waves, giving a sense of overall wave energy, while Tp indicates the time between the most energetic waves and helps distinguish between local wind-driven waves and distant swell. Together, they can be used to estimate wave power and understand wave behavior—*long-period swells with high Hsig carry significantly more energy and pose a greater threat to coastal infrastructure through erosion and overtopping*. This combination is essential for accurate coastal monitoring, forecasting, and planning.\n",
        "\n",
        "Therefore I decided to includes both `Hsig` and `Tp` in my wave analysis.\n",
        "\n",
        "**The data fields included for further analysis are as follows:**\n",
        "- `Site`: Monitoring Site Name to determine the location known by public, use in the group by\n",
        "- `Date`: Monitoring date and time to identify time series, use in groups by\n",
        "- `Latitude`: Coordinate used for potting location on the map\n",
        "- `Longitude`: Coordinate used for potting location on the map\n",
        "- `Hsig`: Significant wave height during the monitoring period as a representative of wave height\n",
        "- `Tp`: Peak Energy Wave Period, time in seconds between the most powerful waves in a set"
      ]
    },
    {
      "cell_type": "code",
      "execution_count": null,
      "id": "8142dc43-fa4c-43ce-a160-376083798a62",
      "metadata": {
        "id": "8142dc43-fa4c-43ce-a160-376083798a62"
      },
      "outputs": [],
      "source": [
        "#Define column to include in Analysis\n",
        "wave_col = ['Latitude','Longitude','Hsig','Tp']"
      ]
    },
    {
      "cell_type": "markdown",
      "id": "8f87d255-23b7-4f30-afad-51358f1f928c",
      "metadata": {
        "id": "8f87d255-23b7-4f30-afad-51358f1f928c"
      },
      "source": [
        "#### 2.2 Storm Tide Data\n",
        "\n",
        "Following the same approach I used for the `Wave Data`, I began by importing the `Storm Tide Data` from the link. To make data handling more efficient, I saved a local copy of the CSV file.\n",
        "\n",
        "Having the file locally allows for quicker access and makes it easier to review the dataset as a whole, especially when I want to get a quick overview of the table structure and the data it contains."
      ]
    },
    {
      "cell_type": "code",
      "execution_count": null,
      "id": "b1177689-7fb2-4b93-a5e3-88dd654e3a10",
      "metadata": {
        "id": "b1177689-7fb2-4b93-a5e3-88dd654e3a10"
      },
      "outputs": [],
      "source": [
        "# Open a CSV file from URL into a new dataframe\n",
        "NRT_tide_data = \"https://www.data.qld.gov.au/datastore/dump/7afe7233-fae0-4024-bc98-3a72f05675bd?bom=True\"\n",
        "pd.read_csv(NRT_tide_data)\n",
        "\n",
        "NRT_tide_df = pd.read_csv(NRT_tide_data,index_col = '_id')\n",
        "NRT_tide_df\n",
        "\n",
        "# Create new csv file in data folder\n",
        "file_name = \"NRT_tide.csv\"\n",
        "path = \"data\"\n",
        "NRT_tide_df.to_csv(f\"{path}/{file_name}\")\n",
        "\n",
        "NRT_tide_file_df = pd.read_csv(NRT_tide_data,index_col = '_id')\n",
        "NRT_tide_file_df"
      ]
    },
    {
      "cell_type": "markdown",
      "id": "75569663-38e2-4e56-b2ba-16a137964536",
      "metadata": {
        "id": "75569663-38e2-4e56-b2ba-16a137964536"
      },
      "source": [
        "To prepare the `Storm Tide Data` for analysis, I focused on locations within the South East Queensland (SEQ) region. To ensure that only data from sites located within the same region as the wave monitoring locations are included, I used the minimum and maximum `Latitude` values from the Wave dataset as a filter."
      ]
    },
    {
      "cell_type": "code",
      "execution_count": null,
      "id": "ca27717a-c60e-469b-83bb-da25b8e2f908",
      "metadata": {
        "id": "ca27717a-c60e-469b-83bb-da25b8e2f908"
      },
      "outputs": [],
      "source": [
        "#Filter Storm tide Data from site (use latitude from Wave Data to filter)\n",
        "NRT_wave_SEQ_df['Latitude'].describe()"
      ]
    },
    {
      "cell_type": "code",
      "execution_count": null,
      "id": "7de63ab4-ed6b-416b-a500-01bd5378e372",
      "metadata": {
        "scrolled": true,
        "id": "7de63ab4-ed6b-416b-a500-01bd5378e372"
      },
      "outputs": [],
      "source": [
        "#Filter only sites between max and min latitude in wave data (only site in South East Queensland)\n",
        "NRT_tide_SEQ_df = NRT_tide_file_df[(NRT_tide_file_df['Latitude'] < -26.565220) & (NRT_tide_file_df['Latitude'] > -28.214620)]\n",
        "NRT_tide_SEQ_df"
      ]
    },
    {
      "cell_type": "markdown",
      "id": "388c60fc-ed1d-45a0-ac5e-8ae5b6545f2d",
      "metadata": {
        "id": "388c60fc-ed1d-45a0-ac5e-8ae5b6545f2d"
      },
      "source": [
        "To make sure each data field is in the correct type. I changed the `DateTime` columns to `datetime64` format.\n",
        "\n",
        "Following this conversion, I made a new `Date` column by extracting only the date, month, and year to use as a timestamp for daily monitoring."
      ]
    },
    {
      "cell_type": "code",
      "execution_count": null,
      "id": "863fd82c-718e-415d-84a5-1bc0f3c0c5b2",
      "metadata": {
        "id": "863fd82c-718e-415d-84a5-1bc0f3c0c5b2"
      },
      "outputs": [],
      "source": [
        "NRT_tide_SEQ_df.dtypes"
      ]
    },
    {
      "cell_type": "code",
      "execution_count": null,
      "id": "859f3f96-cc96-459a-9e26-2d9a262dfaca",
      "metadata": {
        "id": "859f3f96-cc96-459a-9e26-2d9a262dfaca"
      },
      "outputs": [],
      "source": [
        "NRT_tide_SEQ_df['DateTime'] = pd.to_datetime(NRT_tide_SEQ_df['DateTime'], errors='coerce', format='%Y-%m-%dT%H:%M')\n",
        "\n",
        "#Create new column for date (no time) to use as time stamp\n",
        "NRT_tide_SEQ_df['Date'] = NRT_tide_SEQ_df['DateTime'].dt.date #Chat GPT\n",
        "NRT_tide_SEQ_df"
      ]
    },
    {
      "cell_type": "markdown",
      "id": "89d6cfac-dc00-4c86-9ebc-b53915398412",
      "metadata": {
        "id": "89d6cfac-dc00-4c86-9ebc-b53915398412"
      },
      "source": [
        "As I explored the data, I found that the `Water Level` column contained noise from incorrect entries and/or missing values. I eliminated rows where the water level was either `NaN` or indicated with error values `-99` to guarantee a cleaner dataset for analysis. This stage guarantees that the analysis is founded on trustworthy data."
      ]
    },
    {
      "cell_type": "code",
      "execution_count": null,
      "id": "2c268776-cc49-4fd8-8c53-d4c60d60c2cc",
      "metadata": {
        "id": "2c268776-cc49-4fd8-8c53-d4c60d60c2cc"
      },
      "outputs": [],
      "source": [
        "#Drop row with error data (Water Level = -99) > ChatGPT\n",
        "NRT_tide_SEQ_df = NRT_tide_SEQ_df[(NRT_tide_SEQ_df['Water Level'] != -99)]\n",
        "\n",
        "#Drop row with na value\n",
        "NRT_tide_SEQ_df = NRT_tide_SEQ_df.dropna(subset=['Water Level'])\n",
        "\n",
        "NRT_tide_SEQ_df"
      ]
    },
    {
      "cell_type": "markdown",
      "id": "175caed4-cca3-45af-9fd8-64efde4d6061",
      "metadata": {
        "id": "175caed4-cca3-45af-9fd8-64efde4d6061"
      },
      "source": [
        "After cleaning the `Storm Tide Data`, I reviewed the available fields to determine which ones would be relevant. I chose to include five important ones that would offer crucial information for both geographical and temporal research in order to visualise storm tide patterns and assist with coastal analysis.\n",
        "\n",
        "**The following data fields are included:**\n",
        "- `Site`: Monitoring site name to determine the location known by the public, use in the group by\n",
        "- `Date`: Monitoring date and time to identify time series, use in groups by\n",
        "- `Latitude`: Geographical coordinate used for mapping the monitoring site.\n",
        "- `Longitude`: Geographical coordinate used for mapping the monitoring site.\n",
        "- `Water Level`: The recorded tide level, the primary variable in storm tide analysis.\n"
      ]
    },
    {
      "cell_type": "code",
      "execution_count": null,
      "id": "9933303c-9b21-487a-95d6-96fcfe4fadc3",
      "metadata": {
        "id": "9933303c-9b21-487a-95d6-96fcfe4fadc3"
      },
      "outputs": [],
      "source": [
        "tide_col = ['Latitude','Longitude','Water Level']"
      ]
    },
    {
      "cell_type": "markdown",
      "id": "35965dab-5a4d-47a3-b6f1-bbbf89b02cee",
      "metadata": {
        "id": "35965dab-5a4d-47a3-b6f1-bbbf89b02cee"
      },
      "source": [
        "### **3. Analysis**\n",
        "Given that the raw data is recorded every 30 minutes, I decided to group the data by site and by day. Minute-level data, while highly detailed, can be overwhelming and may contain short-term fluctuations that are not necessary for high-level monitoring.\n",
        "\n",
        "I decided to use daily average data since it can provide meaningful trends without excessive noise. However, this design still allows flexibility. The monitoring time window can easily be adjusted by modifying the `Date` field.\n",
        "\n",
        "I decided to compute the daily mean for each site for both `Wave Data` and `Storm Tide Data`. As a result, average conditions over time are accurately represented."
      ]
    },
    {
      "cell_type": "markdown",
      "id": "48c8d5a1-96e6-46b2-b08b-a2c0e8d72a0f",
      "metadata": {
        "id": "48c8d5a1-96e6-46b2-b08b-a2c0e8d72a0f"
      },
      "source": [
        "#### 3.1 Wave Data Analysis\n",
        "To analyse the impact of waves by location, my goal was to understand how wave conditions vary by site on a daily basis. Identifying locations that frequently experience higher waves or longer wave periods can help assess the patterns.\n",
        "\n",
        "The mean values of `Wave Data` parameters like wave height (`Hsig`) and wave period (`Tp`) indicate areas at higher risk of coastal impacts like erosion or wave overtopping."
      ]
    },
    {
      "cell_type": "code",
      "execution_count": null,
      "id": "50431842-c7e0-432d-a654-dfe5c7644b32",
      "metadata": {
        "id": "50431842-c7e0-432d-a654-dfe5c7644b32"
      },
      "outputs": [],
      "source": [
        "#Create new data frame for data related to wave strength\n",
        "NRT_wave_SEQ_mean_df = NRT_wave_SEQ_df.groupby(['Site','Date'])[wave_col].mean().reset_index()\n",
        "NRT_wave_SEQ_mean_df"
      ]
    },
    {
      "cell_type": "markdown",
      "id": "76c8de86-8ec0-4b23-a0d8-d321b1cc0d9c",
      "metadata": {
        "id": "76c8de86-8ec0-4b23-a0d8-d321b1cc0d9c"
      },
      "source": [
        "#### 3.2 Storm Tide Data Analysis\n",
        "My goal was to analyse the effects of tides by location by concentrating on daily water level monitoring. I wanted to identify locations that often have high water levels to learn more about their characteristics. This approach allows for a better understanding of the probability of flooding and the need for preventative action in different areas.\n",
        "\n",
        "The average daily `Water Level` from `Storm Tide Data` at each location provides information about flood risk and helps comprehend how geography affects possible effects, such as whether a high-risk area is a densely populated community or a low-lying natural area."
      ]
    },
    {
      "cell_type": "code",
      "execution_count": null,
      "id": "58c5e52a-3836-404f-8c22-ed25d30b7441",
      "metadata": {
        "id": "58c5e52a-3836-404f-8c22-ed25d30b7441"
      },
      "outputs": [],
      "source": [
        "#Create new data frame for data related to wave strength\n",
        "NRT_tide_SEQ_mean_df = NRT_tide_SEQ_df.groupby(['Site','Date'])[tide_col].mean().reset_index()\n",
        "NRT_tide_SEQ_mean_df"
      ]
    },
    {
      "cell_type": "markdown",
      "id": "4699e777-b0ac-4310-9149-2d7e4893ff14",
      "metadata": {
        "id": "4699e777-b0ac-4310-9149-2d7e4893ff14"
      },
      "source": [
        "### **4. Visualization:**\n",
        "\n",
        "Moving towards the visualisation step, I started by identifying the main goal for the analysis according to the question. The aim is to convert the data into relevant insights that could guide decision-making for coastal protection and management. Keeping this in mind, I designed the visualisations around the following objective:\n",
        "\n",
        "- **Identify High-Risk Locations:** The visualization should help pinpoint sites that are most at risk from waves and storms, which can translate to coastal impacts such as erosion or flooding. By highlighting these locations, the analysis can support more targeted risk management and preventive actions, enabling decision-makers to prioritize resources and plan effective implementation.\n",
        "\n",
        "- **Inspect Patterns:** The visualisation should highlight trends in coastal conditions over time to help identify recurring patterns and potential risks, which can support early warnings and better planning for coastal infrastructure.\n",
        "\n",
        "- **Geographical Insight:** To complement the wave and tide analysis, the map's visualisation should help pinpoint the exact locations of the monitoring sites, providing context about each site’s surroundings, such as proximity to populated areas or coastal features. Visualising this data geographically will help better understand how location influences the severity of coastal impacts, helping in infrastructure planning and risk prioritisation."
      ]
    },
    {
      "cell_type": "markdown",
      "id": "2276401c-24c0-48d8-9e6b-b1ca526aa854",
      "metadata": {
        "id": "2276401c-24c0-48d8-9e6b-b1ca526aa854"
      },
      "source": [
        "#### 4.1 Wave Data\n",
        "\n",
        "To support the analysis, I plan to create a time series plot showing the relationship between `Hsig` and `Tp` per site, which may reveal patterns like high-energy swell events over time.\n",
        "\n",
        "I created a scatter plot to show how wave conditions varied throughout the monitoring locations. The goal is to plot wave height (Hsig) and wave period (Tp) over time.\n",
        "\n",
        "The code below shows the relative wave height and duration of wave periods by plotting `Hsig` on the Y-axis and colour while mapping `Tp` to the X-axis and marker size. High-energy wave occurrences can be identified visually by colour and size. Each point shows the daily mean readings from each monitoring site.\n",
        "\n",
        "The use of a faceted layout, where each subplot represents wave conditions for a specific date, allows temporal comparison of wave energy and behaviour through out the week."
      ]
    },
    {
      "cell_type": "code",
      "execution_count": null,
      "id": "ba9e335b-39b8-4306-bc42-226b8ce3f630",
      "metadata": {
        "id": "ba9e335b-39b8-4306-bc42-226b8ce3f630"
      },
      "outputs": [],
      "source": [
        "#pin point high risk location\n",
        "wave_scatter = px.scatter(NRT_wave_SEQ_mean_df,\n",
        "                          x=\"Tp\",\n",
        "                          y=\"Hsig\",\n",
        "                          size=\"Tp\",\n",
        "                          color=\"Hsig\",\n",
        "                          facet_col=\"Date\",\n",
        "                          facet_col_wrap=4,\n",
        "                          height = 720,\n",
        "                          width = 1080,\n",
        "                          )\n",
        "wave_scatter.update_traces(textposition='top center')\n",
        "wave_scatter.show()"
      ]
    },
    {
      "cell_type": "markdown",
      "id": "625a0701-bd53-47dc-bb6e-0552fa38bf9e",
      "metadata": {
        "id": "625a0701-bd53-47dc-bb6e-0552fa38bf9e"
      },
      "source": [
        "After generating the initial scatter plot, I noticed that the size of each point was barely noticeable due to the relatively small range of `Tp` values. To address this, I chose to normalise the `Tp` columns, ensuring that variations in wave period are clearly visible.\n",
        "\n",
        "I also get the min-max value for `Hsig` in order to use it as a range in future visualisation."
      ]
    },
    {
      "cell_type": "code",
      "execution_count": null,
      "id": "bc45ef10-273f-4b60-87c2-a3aa7affe8f2",
      "metadata": {
        "id": "bc45ef10-273f-4b60-87c2-a3aa7affe8f2"
      },
      "outputs": [],
      "source": [
        "# Normalize the 'Tp' values to a 0-1 range\n",
        "min_Tp = NRT_wave_SEQ_mean_df['Tp'].min()\n",
        "max_Tp = NRT_wave_SEQ_mean_df['Tp'].max()\n",
        "NRT_wave_SEQ_mean_df['normalized_Tp'] = (NRT_wave_SEQ_mean_df['Tp'] - min_Tp) / (max_Tp - min_Tp)\n",
        "\n",
        "# Normalize the 'Hsig' values to a 0-1 range\n",
        "min_Hsig = NRT_wave_SEQ_mean_df['Hsig'].min()\n",
        "max_Hsig = NRT_wave_SEQ_mean_df['Hsig'].max()"
      ]
    },
    {
      "cell_type": "markdown",
      "id": "d065dfa1-78aa-470e-9d2b-1dff83d18bd3",
      "metadata": {
        "id": "d065dfa1-78aa-470e-9d2b-1dff83d18bd3"
      },
      "source": [
        "The scatter plot helps highlight sites experiencing the most powerful waves. To make it easier for users to identify the location with the strongest waves each day, I decided to add some custom labelling, showing the site with the strongest waves in each day.\n",
        "\n",
        "To identify the site with the strongest waves, I asked ChatGPT for guidance on how to calculate wave strength using `Hsig` and `Tp` values.\n",
        "\n",
        "**Prompt Used:**\n",
        ">If I have Hsig and Tp data how can I calculate wave strangth. Explain to me how those information are used in the industry and how to calculate.\n",
        "\n",
        "**Summary of Response**\n",
        "> - **Wave Energy** (E = (1/8) * ρ * g * Hsig²): Shows the amount of energy stored in the wave field at a given moment.\n",
        ">    - Good for understanding the potential impact on structures (like erosion force), not necessarily how much energy is transferred.\n",
        "\n",
        "> - **Wave Power** (P ≈ 0.49 * Hsig² * Tp): The rate at which energy is being transported by the waves (energy flow per meter of wave crest).\n",
        ">    - Good for estimating how destructive or dynamic the wave environment is over time (like overtopping risk or potential for wave energy extraction).\n",
        "\n",
        "> Wave Energy is useful for estimating potential impact on coastal structures, while Wave Power is more relevant for evaluating processes like erosion or overtopping. Depending on the goal, these metrics can be used separately or combined into a custom wave strength index for a more comprehensive analysis.\n",
        "\n",
        "I decided to use a combined method that integrates `Wave Energy` and `Wave Power` to create a custom index, which would help identify the site with the strongest waves each day.\n",
        "\n",
        "The code for this implementation was provided by ChatGPT."
      ]
    },
    {
      "cell_type": "code",
      "execution_count": null,
      "id": "b80733fb-6bc2-42d3-9336-435b3885ea02",
      "metadata": {
        "id": "b80733fb-6bc2-42d3-9336-435b3885ea02"
      },
      "outputs": [],
      "source": [
        "#Calculate Wave Energy and Wave Power\n",
        "# Constants\n",
        "g = 9.81  # gravity (m/s²)\n",
        "rho = 1025  # density of seawater (kg/m³)\n",
        "\n",
        "# Energy per unit area\n",
        "NRT_wave_SEQ_mean_df[\"Wave_Energy\"] = (1/8) * rho * g * NRT_wave_SEQ_mean_df[\"Hsig\"]**2\n",
        "\n",
        "# Wave power per unit crest length (approximate)\n",
        "NRT_wave_SEQ_mean_df[\"Wave_Power\"] = 0.49 * (NRT_wave_SEQ_mean_df[\"Hsig\"]**2) *NRT_wave_SEQ_mean_df[\"Tp\"]\n",
        "\n",
        "# Create a new column \"text_label\" that is blank by default.\n",
        "NRT_wave_SEQ_mean_df['text_label'] = \"\"\n",
        "\n",
        "#Create a custom index\n",
        "from sklearn.preprocessing import MinMaxScaler\n",
        "\n",
        "scaler = MinMaxScaler()\n",
        "NRT_wave_SEQ_mean_df[[\"Wave_Energy_scaled\", \"Wave_Power_scaled\"]] = scaler.fit_transform(NRT_wave_SEQ_mean_df[[\"Wave_Energy\", \"Wave_Power\"]])\n",
        "NRT_wave_SEQ_mean_df[\"Wave_Strength_Index\"] = (NRT_wave_SEQ_mean_df[\"Wave_Energy_scaled\"] + NRT_wave_SEQ_mean_df[\"Wave_Power_scaled\"]) / 2\n",
        "\n",
        "#Label the site with the highest index for each date\n",
        "for date, group in NRT_wave_SEQ_mean_df.groupby(\"Date\"):\n",
        "    idx = group[\"Wave_Strength_Index\"].idxmax()  # Get the index of the row with the max index\n",
        "    NRT_wave_SEQ_mean_df.loc[idx, \"text_label\"] = NRT_wave_SEQ_mean_df.loc[idx, \"Site\"]"
      ]
    },
    {
      "cell_type": "markdown",
      "id": "a57f418f-9770-403d-8710-e59f7130948b",
      "metadata": {
        "id": "a57f418f-9770-403d-8710-e59f7130948b"
      },
      "source": [
        "This is the final version of the scatter plot, designed to visualize the sites with the strongest waves each day.\n",
        "\n",
        "In this plot, each point represents a monitoring site, with the x-axis and size showing the peak wave period (`Tp`) and the y-axis and colour representing the significant wave height (`Hsig`). To highlight the locations with the highest wave index, I added a custom `text_label` to annotate these sites' names.\n",
        "\n",
        "I adjusted the colour scale from the default to `Spectral_r` because the range of colours provides a clearer visualisation of wave intensity. The red shades represent higher wave heights, signalling potentially strong waves in the areas that may require attention, while the blue hues represent lower wave heights, indicating calmer conditions.\n",
        "\n",
        "Moreover, according to the explanation from ChatGPT, the size of the plot reflects the `Tp` values, which, when combined with wave height, can indicate if the wave is stronger or not. A longer `Tp` along with a higher `Hsig`  may suggest that the waves are influenced by a storm occurring far from the shore. This is because waves generated by distant storms tend to travel long distances with relatively consistent energy. As they move away from the storm source, shorter-period waves lose energy and disappear, while longer-period waves continue to travel, arriving at the shore with higher wave heights and longer periods. This pattern is different from locally generated wind waves, which typically have shorter wave periods and are more irregular.\n",
        "\n",
        "Therefore, when both `Tp` and `Hsig` are high, it's a strong signal of a powerful offshore weather event affecting the coastline. Being able to detect this combination can help with early warning systems, coastal planning, and safety.\n",
        "\n",
        "The visualization, with colour showing `Hsig` and size representing `Tp` allows users to quickly identify these conditions. The plot also includes facets for each day (`Date`), allowing for clear daily comparisons.\n",
        "\n",
        "The following code generates this final version of the scatter plot."
      ]
    },
    {
      "cell_type": "code",
      "execution_count": null,
      "id": "7a3e69d1-716a-43c9-be86-e18478580c74",
      "metadata": {
        "id": "7a3e69d1-716a-43c9-be86-e18478580c74"
      },
      "outputs": [],
      "source": [
        "#Create scatter plot with the name of the site with strongest wave (highest wave index)\n",
        "wave_scatter = px.scatter(NRT_wave_SEQ_mean_df,\n",
        "                          x=\"Tp\",\n",
        "                          y=\"Hsig\",\n",
        "                          range_y = [0, max_Hsig+0.5], #Equal to normalized\n",
        "                          size=\"normalized_Tp\",\n",
        "                          color=\"Hsig\",\n",
        "                          facet_col=\"Date\",\n",
        "                          color_continuous_scale=\"Spectral_r\",\n",
        "                          facet_col_wrap=4,\n",
        "                          height = 720,\n",
        "                          width = 1080,\n",
        "                          text=\"text_label\") #Pin point high risk location\n",
        "\n",
        "wave_scatter.update_traces(textposition='top center')\n",
        "wave_scatter.show()"
      ]
    },
    {
      "cell_type": "markdown",
      "id": "0de91967-9084-4f6c-bac9-ff377af06af0",
      "metadata": {
        "id": "0de91967-9084-4f6c-bac9-ff377af06af0"
      },
      "source": [
        "To explore more ways of visualising the data, I created this chart, which follows the same concept as the previous one but presents the information from a different perspective.\n",
        "\n",
        "This chart shows the wave height (`Hsig`) for each site over time, with the x-axis representing the `Date` and the y-axis representing wave height (`Hsig`). The size of the points corresponds to the normalised wave period (`Tp`), and the colour indicates the magnitude of wave height.\n",
        "\n",
        "Additionally, I added a line representing the *Average Wave Height* across all sites for each day as a benchmark to help identify sites with wave heights exceeding the average.\n",
        "\n",
        "To further enhance the visualisation, I explored the **Animation Feature** in `Plotly`. After reviewing examples on the [Plotly Website](https://plotly.com/python/animations/), I decided to incorporate animation into this chart, which allows users to see how wave heights change over time for each site."
      ]
    },
    {
      "cell_type": "code",
      "execution_count": null,
      "id": "5a853e17-a446-44ba-95a6-2589ed500f20",
      "metadata": {
        "id": "5a853e17-a446-44ba-95a6-2589ed500f20"
      },
      "outputs": [],
      "source": [
        "min_Date = NRT_wave_SEQ_mean_df['Date'].min()\n",
        "max_Date = NRT_wave_SEQ_mean_df['Date'].max()\n",
        "\n",
        "sites = sorted(NRT_wave_SEQ_mean_df['Site'].unique()) #Sorted by site name\n",
        "\n",
        "import plotly.graph_objects as go\n",
        "\n",
        "# Create the animated faceted scatter plot.\n",
        "fig = px.scatter(\n",
        "    NRT_wave_SEQ_mean_df,\n",
        "    x='Date',\n",
        "    y=\"Hsig\",\n",
        "    range_x=[min_Date, max_Date],\n",
        "    range_y=[0, NRT_wave_SEQ_mean_df['Hsig'].max() + 0.5],\n",
        "    color=\"Hsig\",\n",
        "    size=\"normalized_Tp\",\n",
        "    size_max=30,\n",
        "    color_continuous_scale=\"Spectral_r\",\n",
        "    range_color=[NRT_wave_SEQ_mean_df['Hsig'].min(), NRT_wave_SEQ_mean_df['Hsig'].max()],\n",
        "    facet_col='Site',\n",
        "    facet_col_wrap=3,\n",
        "    animation_frame=\"Date\",\n",
        "    title=\"Daily Wave Height & Wave Period (Wave Strength) by Location\"\n",
        ")\n",
        "\n",
        "# Precompute the global average Hsig by Date.\n",
        "df_avg = NRT_wave_SEQ_mean_df.groupby(\"Date\", as_index=False)[\"Hsig\"].mean()\n",
        "df_avg = df_avg.sort_values(\"Date\")\n",
        "\n",
        "facet_mapping = {}\n",
        "for i, site in enumerate(sites):\n",
        "    xaxis = \"x\" if i == 0 else f\"x{i+1}\"\n",
        "    yaxis = \"y\" if i == 0 else f\"y{i+1}\"\n",
        "    facet_mapping[site] = (xaxis, yaxis)\n",
        "\n",
        "# Helper function to create the average line trace for a given facet.\n",
        "def create_avg_line_trace(site):\n",
        "    xaxis_name, yaxis_name = facet_mapping.get(site, (\"x\", \"y\"))\n",
        "    return go.Scatter(\n",
        "        x=df_avg['Date'],\n",
        "        y=df_avg['Hsig'],\n",
        "        mode='lines',\n",
        "        name='Avg Hsig',\n",
        "        line=dict(color='grey', width=2),\n",
        "        xaxis=xaxis_name,\n",
        "        yaxis=yaxis_name,\n",
        "        showlegend=False,\n",
        "        hoverinfo='skip'\n",
        "    )\n",
        "\n",
        "# Add the average trace to the base figure for each facet.\n",
        "for site in sites:\n",
        "    fig.add_trace(create_avg_line_trace(site))\n",
        "\n",
        "# Add copies of the average trace to every animation frame.\n",
        "for frame in fig.frames:\n",
        "    current_traces = list(frame.data)\n",
        "    additional_traces = [create_avg_line_trace(site) for site in sites]\n",
        "    frame.data = tuple(current_traces + additional_traces)\n",
        "\n",
        "fig.update_layout(height=800,width = 960)\n",
        "fig.show()"
      ]
    },
    {
      "cell_type": "markdown",
      "id": "2b214c90-33c4-4dba-96db-66a59c7f4c3d",
      "metadata": {
        "id": "2b214c90-33c4-4dba-96db-66a59c7f4c3d"
      },
      "source": [
        "I then explored visualising the data on a map, which I believe is especially helpful for users who may not be familiar with the site names.\n",
        "\n",
        "Unlike a list of names, a map provides geographic context, allowing us to see each site's physical location and surrounding characteristics. This view can reveal patterns such as the influence of nearby sites on one another or whether a site is located close to densely populated areas or further offshore.\n",
        "\n",
        "These insights are valuable for decision-making, particularly in infrastructure planning. By identifying high-risk sites and understanding their surrounding environments, such as urban areas versus protected zones like national parks, we can better prioritize and allocate resources based on the potential impact in each region.\n",
        "\n",
        "For this part, I used the code from the tutorial together with example code from [Plotly Website](https://plotly.com/python/plotly-express/) and made a few refinements, such as adding **Animation feature** and customising the **Hover Details**, based on suggestions from ChatGPT."
      ]
    },
    {
      "cell_type": "code",
      "execution_count": null,
      "id": "50df434f-27f1-4a79-a466-ded596792376",
      "metadata": {
        "id": "50df434f-27f1-4a79-a466-ded596792376"
      },
      "outputs": [],
      "source": [
        "# finding the central point\n",
        "wave_lat_centre = (max(NRT_wave_SEQ_mean_df['Latitude']) + min(NRT_wave_SEQ_mean_df['Latitude']))/2\n",
        "wave_lon_centre = (max(NRT_wave_SEQ_mean_df['Longitude']) + min(NRT_wave_SEQ_mean_df['Longitude']))/2"
      ]
    },
    {
      "cell_type": "code",
      "execution_count": null,
      "id": "aff16eb1-c1cf-472a-ab7d-d7aacbc4ef0b",
      "metadata": {
        "id": "aff16eb1-c1cf-472a-ab7d-d7aacbc4ef0b"
      },
      "outputs": [],
      "source": [
        "#from https://plotly.com/python/plotly-express/\n",
        "wave_fig_map = px.scatter_map(NRT_wave_SEQ_mean_df, lat=\"Latitude\", lon=\"Longitude\",\n",
        "                    color = \"Hsig\",\n",
        "                    size = \"normalized_Tp\", #Support Hsig > if red and big then that wave is very strong\n",
        "                    size_max = 40, zoom = 7,\n",
        "                    center = {'lat':wave_lat_centre, 'lon': wave_lon_centre},\n",
        "                    range_color = [min_Hsig, max_Hsig],\n",
        "                    color_continuous_scale=\"Spectral_r\", #ChatGPT >> Change because red represent high wave which tends to be strong wave better\n",
        "                    hover_name = \"Site\",  # Primary tooltip text\n",
        "                    hover_data = {\n",
        "                        \"Site\": False,\n",
        "                        \"Date\": True,\n",
        "                        \"Hsig\": True,\n",
        "                        \"Tp\": True,\n",
        "                        \"normalized_Tp\": False,\n",
        "                        \"Latitude\":False,\n",
        "                        \"Longitude\":False\n",
        "                    },\n",
        "                    text = \"Site\",\n",
        "                    animation_frame= \"Date\",\n",
        "                    title = \"Daily Wave Strength\"\n",
        "                    )\n",
        "\n",
        "wave_fig_map.update_layout(\n",
        "    width=480,\n",
        "    height=800,\n",
        "    mapbox_style=\"open-street-map\",\n",
        "    showlegend=False)  #ChatGPT\n",
        "\n",
        "wave_fig_map.show()"
      ]
    },
    {
      "cell_type": "markdown",
      "id": "713cdc60-f00c-46bf-ac73-f9dea8d7ce91",
      "metadata": {
        "id": "713cdc60-f00c-46bf-ac73-f9dea8d7ce91"
      },
      "source": [
        "#### 4.2 Storm Tide Data"
      ]
    },
    {
      "cell_type": "markdown",
      "id": "6da42050-5331-45bd-9557-542c16f3e117",
      "metadata": {
        "id": "6da42050-5331-45bd-9557-542c16f3e117"
      },
      "source": [
        "To support the tide analysis, I plan to create a bar chart showing `Water Level` at each site.\n",
        "\n",
        "The code below plots the `Water Level` on the Y-axis, with each bar representing the daily mean water level at each site. This allows for easy comparison of water levels across locations, highlighting sites with higher water levels, which could indicate higher risks for flooding.\n",
        "\n",
        "This bar chart allows us to quickly identify differences in water levels across the sites, facilitating better decision-making for flood risk management. Each bar represents the average daily reading, allowing for comparisons across the sites.\n",
        "\n",
        "For the `Storm Tide Data`, I decided to customise the colour scale for the same reason I did in the wave section visualisation. Water levels can indicate flood risk, and red and blue colours can effectively convey a sense of urgency. Therefore, I chose the `RdBu_r` colour scale to reflect this."
      ]
    },
    {
      "cell_type": "code",
      "execution_count": null,
      "id": "407d111d-8b29-47c7-96f9-c97b2ae78d4a",
      "metadata": {
        "id": "407d111d-8b29-47c7-96f9-c97b2ae78d4a"
      },
      "outputs": [],
      "source": [
        "NRT_tide_SEQ_mean_df_bar = px.bar(NRT_tide_SEQ_mean_df, x=\"Site\", y=\"Water Level\",\n",
        "                                  labels={\"Water Level (Meter)\"},\n",
        "                                  color = \"Water Level\",\n",
        "                                  title= \"Daily average water level\",\n",
        "                                  facet_col=\"Date\",\n",
        "                                  facet_col_wrap=2,\n",
        "                                  color_continuous_scale=\"RdBu_r\",\n",
        "                                  height = 1500,\n",
        "                                  width = 1000,\n",
        "                                  #text=\"text_label\"\n",
        "                                 )\n",
        "NRT_tide_SEQ_mean_df_bar.update_traces(marker_line_width=0)\n",
        "NRT_tide_SEQ_mean_df_bar.show()"
      ]
    },
    {
      "cell_type": "markdown",
      "id": "e665538c-2907-4650-a525-8d59eb8f5cbb",
      "metadata": {
        "id": "e665538c-2907-4650-a525-8d59eb8f5cbb"
      },
      "source": [
        "Using the same concept as with the `Wave Data`, I created a chart that provides a different perspective.\n",
        "\n",
        "This area chart visualizes the water level at each site over time, with the x-axis representing the `Date` and the y-axis showing the `Water Level`. The area under each graph reflects the water level, making it easier to compare levels across locations. A benchmark line for the **Average Water Level** across all sites helps users identify sites with water levels above the average, highlighting those at higher risk. This chart gives a clear view of how water levels fluctuate through time.\n",
        "\n",
        "I chose an area chart because it effectively shows how water levels change over time, with the filled areas offering an intuitive comparison. It resembles water filling a jug, helping to visualise the differences. Adding a benchmark line makes it easy to spot sites with higher-than-average water levels, making it easier to assess risk and guide decisions."
      ]
    },
    {
      "cell_type": "code",
      "execution_count": null,
      "id": "5082f97d-0786-4db0-aa9c-aeaa48cbc516",
      "metadata": {
        "id": "5082f97d-0786-4db0-aa9c-aeaa48cbc516"
      },
      "outputs": [],
      "source": [
        "min_Date = NRT_tide_SEQ_mean_df['Date'].min()\n",
        "max_Date = NRT_tide_SEQ_mean_df['Date'].max()\n",
        "\n",
        "sites = sorted(NRT_tide_SEQ_mean_df['Site'].unique())\n",
        "\n",
        "import plotly.graph_objects as go\n",
        "\n",
        "# Create the animated faceted scatter plot.\n",
        "fig = px.area(\n",
        "    NRT_tide_SEQ_mean_df,\n",
        "    x='Date',\n",
        "    y=\"Water Level\",\n",
        "    range_x=[min_Date, max_Date],\n",
        "    range_y=[0, NRT_tide_SEQ_mean_df['Water Level'].max() + 0.5],\n",
        "    color=\"Site\",\n",
        "    #color_continuous_scale=\"RdBu_r\",\n",
        "    #range_color=[NRT_tide_SEQ_mean_df['Water Level'].min(), NRT_tide_SEQ_mean_df['Water Level'].max()],\n",
        "    facet_col='Site',\n",
        "    facet_col_wrap=2,\n",
        "    #animation_frame=\"Date\",\n",
        "    title=\"Daily water level by Location\"\n",
        ")\n",
        "\n",
        "# Precompute the global average Hsig by Date.\n",
        "df_avg = NRT_tide_SEQ_mean_df.groupby(\"Date\", as_index=False)[\"Water Level\"].mean()\n",
        "df_avg = df_avg.sort_values(\"Date\")\n",
        "\n",
        "# Build a manual facet mapping.\n",
        "# Here we assume that the order of facets in the layout matches the order in 'sites'.\n",
        "facet_mapping = {}\n",
        "for i, site in enumerate(sites):\n",
        "    xaxis = \"x\" if i == 0 else f\"x{i+1}\"\n",
        "    yaxis = \"y\" if i == 0 else f\"y{i+1}\"\n",
        "    facet_mapping[site] = (xaxis, yaxis)\n",
        "\n",
        "# Helper function to create the average line trace for a given facet.\n",
        "def create_avg_line_trace(site):\n",
        "    xaxis_name, yaxis_name = facet_mapping.get(site, (\"x\", \"y\"))\n",
        "    return go.Scatter(\n",
        "        x=df_avg['Date'],\n",
        "        y=df_avg['Water Level'],\n",
        "        mode='lines',\n",
        "        fill = 'tozeroy',\n",
        "        name='Avg Water Level',\n",
        "        line=dict(color='grey', width=2),\n",
        "        xaxis=xaxis_name,\n",
        "        yaxis=yaxis_name,\n",
        "        showlegend=False,\n",
        "        hoverinfo='skip'\n",
        "    )\n",
        "\n",
        "# Add the average trace to the base figure for each facet.\n",
        "for site in sites:\n",
        "    fig.add_trace(create_avg_line_trace(site))\n",
        "\n",
        "# Add copies of the average trace to every animation frame.\n",
        "for frame in fig.frames:\n",
        "    current_traces = list(frame.data)\n",
        "    additional_traces = [create_avg_line_trace(site) for site in sites]\n",
        "    frame.data = tuple(current_traces + additional_traces)\n",
        "\n",
        "fig.update_layout(height=1800, width = 1000)\n",
        "fig.show()"
      ]
    },
    {
      "cell_type": "markdown",
      "id": "1e8e42d9-386f-41ef-908f-b4f69ad5d2f1",
      "metadata": {
        "id": "1e8e42d9-386f-41ef-908f-b4f69ad5d2f1"
      },
      "source": [
        "With the same thought process when visualising the `Wave Data`, the map format allows for a better risk assessment.\n",
        "\n",
        "Similar to the `Wave Data`, the map provides insight into the physical location and surrounding characteristics of each site, highlighting patterns such as the proximity to densely populated areas or nearby sites that could influence conditions. These insights are essential for making informed decisions, particularly when prioritising areas for infrastructure development based on flood risk.\n",
        "\n",
        "For this visualisation, I used the same code structure as the map for `Wave Data`, which I adjusted to accommodate `Storm Tide Data` instead.\n",
        "\n",
        "For the size of the plot, with the same idea for `Tp` in `Wave Data`, I normalised `Water Level` to be used as a size indicator so it is easier to detect."
      ]
    },
    {
      "cell_type": "code",
      "execution_count": null,
      "id": "8cfdd305-6b2d-4302-b84b-2df4bfc3b68b",
      "metadata": {
        "id": "8cfdd305-6b2d-4302-b84b-2df4bfc3b68b"
      },
      "outputs": [],
      "source": [
        "#Normalised water level to user as size\n",
        "# Normalize the 'Tp' values to a 0-1 range\n",
        "min_WL = NRT_tide_SEQ_mean_df['Water Level'].min()\n",
        "max_WL = NRT_tide_SEQ_mean_df['Water Level'].max()\n",
        "NRT_tide_SEQ_mean_df['normalized_WL'] = (NRT_tide_SEQ_mean_df['Water Level'] - min_WL) / (max_WL - min_WL)"
      ]
    },
    {
      "cell_type": "code",
      "execution_count": null,
      "id": "8ed183e4-aa6b-435a-bf13-01ddf48df30d",
      "metadata": {
        "id": "8ed183e4-aa6b-435a-bf13-01ddf48df30d"
      },
      "outputs": [],
      "source": [
        "# finding the central point\n",
        "tide_lat_centre = (max(NRT_tide_SEQ_mean_df['Latitude']) + min(NRT_tide_SEQ_mean_df['Latitude']))/2\n",
        "tide_lon_centre = (max(NRT_tide_SEQ_mean_df['Longitude']) + min(NRT_tide_SEQ_mean_df['Longitude']))/2\n",
        "\n",
        "min_WL = NRT_tide_SEQ_mean_df['Water Level'].min()\n",
        "max_WL = NRT_tide_SEQ_mean_df['Water Level'].max()\n",
        "\n",
        "#from https://plotly.com/python/plotly-express/\n",
        "tide_fig_map = px.scatter_map(NRT_tide_SEQ_mean_df, lat=\"Latitude\", lon=\"Longitude\",\n",
        "                    color = \"Water Level\",\n",
        "                    size = \"normalized_WL\", #Support Hsig > if red and big then that wave is very strong\n",
        "                    size_max = 30, zoom = 7,\n",
        "                    center = {'lat':tide_lat_centre, 'lon': tide_lon_centre},\n",
        "                    range_color = [min_WL, max_WL],\n",
        "                    color_continuous_scale=\"RdBu_r\", #ChatGPT >> Change because red represent high wave which tends to be strong wave better\n",
        "                    hover_name = \"Site\",  # Primary tooltip text\n",
        "                    hover_data = {\n",
        "                        \"Site\": False,\n",
        "                        \"Date\": True,\n",
        "                        \"Water Level\":True,\n",
        "                        \"Latitude\":False,\n",
        "                        \"Longitude\":False\n",
        "                    },\n",
        "                    text = \"Site\",\n",
        "                    animation_frame= \"Date\",\n",
        "                    title = \"Daily Water Level\"\n",
        "                    )\n",
        "\n",
        "tide_fig_map.update_layout(\n",
        "    width=480,\n",
        "    height=800,\n",
        "    mapbox_style=\"open-street-map\",\n",
        "    showlegend=True)  #ChatGPT\n",
        "\n",
        "tide_fig_map.show()"
      ]
    },
    {
      "cell_type": "markdown",
      "id": "b1160fac-b398-42d5-9f8d-8f9622e72079",
      "metadata": {
        "id": "b1160fac-b398-42d5-9f8d-8f9622e72079"
      },
      "source": [
        "## 5.Summary Insight\n",
        "\n",
        "I look through the analysis and visualisations and connect them to the initial question in order to gain insights:\n",
        "\n",
        "> **Question**: How do near real-time wave height and tide level data vary at major coastal locations in South East Queensland, and what patterns can be observed through continuous monitoring? How can this information help with flood warnings and infrastructure planning?\n",
        ">\n",
        "### Findings:\n",
        "\n",
        "Wave height and tide data vary by site and time, with clear patterns linked to the geographical location and surrounding environmental features\n",
        "\n",
        "- **Stronger Waves** (`Hsig` x `Tp`) tend to occur at sites further from the shore or those facing the open ocean, indicating an increased risk for coastal impacts like erosion and flooding.\n",
        "\n",
        "- **High tide levels** (`Water Level`) are more common near river mouths or locations with complex waterway systems, which are often in proximity to neighbourhoods and vulnerable infrastructure.\n",
        "\n",
        "The most important finding is that areas with consistently strong waves and/or high tides can be classified as high-risk areas for coastal erosion and flooding.\n",
        "\n",
        "This insight can help prioritise where coastal and/or flood protection infrastructure should be developed first according to urgency and estimated impact, which will help define budget allocation and help with the infrastructure design based on site-specific conditions.\n",
        "\n",
        "### Further Analysis:\n",
        "\n",
        "While working on this assignment, I noticed that wave height and water level patterns might be influenced by daily weather conditions. For instance, on 29th March, there was a noticeable increase in wave activity during rain events, which aligns with weather reports from 29th – 30th March indicating rainfall. This suggests that integrating weather data can add important context to wave and tide analysis (Screenshots of a graph and weather observation from [BOM Website](http://www.bom.gov.au/climate/dwo/202503/html/IDCJDW4019.202503.shtml) below).\n",
        "\n",
        "![My Image](data/Picture1.png)\n",
        "\n",
        "Incorporating weather forecast data could improve the ability to predict wave and tide conditions, especially during extreme weather events. This would enhance flood and erosion risk assessments in real time.\n",
        "\n",
        "Additionally, exploring seasonal trends and incorporating climate change projections would strengthen long-term planning and provide a more comprehensive understanding of coastal risks.\n",
        "\n",
        "### Data Limitations and How to Address Them:\n",
        "\n",
        "- Near real-time data provides timely updates but is limited to showing only the last 7 days, lacking the broader historical context needed to understand long-term trends. This limitation can be addressed by integrating historical datasets to identify recurring patterns and trends over time.\n",
        "- The different site locations of these datasets prevent them from being fully combined. Initially, I aimed to create a `scatter_map` to show both datasets simultaneously, allowing users to distinguish between `Storm Tide Data` and `Wave Data`. However, `Plotly Express`’s scatter_map feature does not support using different scatter shapes for two variables. As a result, the data needs to be displayed on separate maps.\n",
        "- Currently, the best approach is to combine all charts into a single dashboard, where users can view and analyze the charts together to monitor the overall coastal situation.\n",
        "\n",
        "### Applications and Recommendations:\n",
        "\n",
        "- **Near Real-Time Monitoring Dashboard:** Facilitates continuous monitoring and timely flood warnings for high-risk coastal areas.\n",
        "- **Disaster Management & Early Warning Systems:** Supports better preparation and response during coastal hazard events.\n",
        "- **Coastal Preservation Infrastructure Planning:** Helps prioritise resource allocation in areas vulnerable to flooding or erosion.\n",
        "\n",
        "### Key Recommendations for Decision-Makers:\n",
        "- Prioritize **offshore-facing sites** for *erosion control*.\n",
        "- Monitor high **tide-prone sites** near rivers for *flood prevention*.\n",
        "- *Focus resources* on **densely populated areas with high risk**."
      ]
    }
  ],
  "metadata": {
    "creation_period": "",
    "kernelspec": {
      "display_name": "Python 3 (ipykernel)",
      "language": "python",
      "name": "python3"
    },
    "language_info": {
      "codemirror_mode": {
        "name": "ipython",
        "version": 3
      },
      "file_extension": ".py",
      "mimetype": "text/x-python",
      "name": "python",
      "nbconvert_exporter": "python",
      "pygments_lexer": "ipython3",
      "version": "3.11.11"
    },
    "nb_name": "template",
    "qut": {
      "creation_period": "2023_sem1",
      "nb_name": "template-assignment1",
      "unit_code": "IFN619"
    },
    "unit_code": "",
    "vscode": {
      "interpreter": {
        "hash": "d4d1e4263499bec80672ea0156c357c1ee493ec2b1c70f0acce89fc37c4a6abe"
      }
    },
    "colab": {
      "provenance": []
    }
  },
  "nbformat": 4,
  "nbformat_minor": 5
}